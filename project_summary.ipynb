{
 "cells": [
  {
   "cell_type": "markdown",
   "metadata": {},
   "source": [
    "# Boglehead Retirement - Project Summary\n",
    "\n",
    "## Introduction\n",
    "\n",
    "Planning for retirement is one of the most important financial goals in life. Assuming you have a set amount of money at retirement, how much should you withdrawal each year and what asset allocations is good for your retirement portfolios? This project utilizes 23 years of historical investment data (spy and tlt) to determine the maximum safe withdrawal rate to make the money last through retirement, and the optimal stock and bond ratio for retirement portfolios to accumulate wealth for heirs.\n",
    "\n",
    "## Key findings\n",
    "\n",
    "- SPY prices increased 630% over the last 23 years (2002-7-26 to 2025-7-14).\n",
    "- TLT prices increased 3.76% over the last 23 years (2002-7-26 to 2025-7-14).\n",
    "- The dividends received from SPY increases over years, however, it didn't change much for TLT.\n",
    "- The retirement portfolios is optimal when you invest all the money in SPY during this period.\n",
    "- The higher withdrawal rate (the more money you withdraw), the less money you have at the end. With a withdrwal rate over 8%, you run out of money in less than 23 years.\n",
    "\n",
    "## Limitations\n",
    "\n",
    "- The historical data on tlt only goes back to 2002, which limits the analysis for only 23 years. Normally we should plan for at least 30 years of retirement.\n",
    "- The SPY data "
   ]
  }
 ],
 "metadata": {
  "language_info": {
   "name": "python"
  },
  "orig_nbformat": 4
 },
 "nbformat": 4,
 "nbformat_minor": 2
}
