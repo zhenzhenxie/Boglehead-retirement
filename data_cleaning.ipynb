{
 "cells": [
  {
   "cell_type": "code",
   "execution_count": 21,
   "metadata": {},
   "outputs": [],
   "source": [
    "import sqlite3\n",
    "import pandas as pd\n",
    "import tabulate"
   ]
  },
  {
   "cell_type": "code",
   "execution_count": 22,
   "metadata": {},
   "outputs": [
    {
     "data": {
      "text/html": [
       "<div>\n",
       "<style scoped>\n",
       "    .dataframe tbody tr th:only-of-type {\n",
       "        vertical-align: middle;\n",
       "    }\n",
       "\n",
       "    .dataframe tbody tr th {\n",
       "        vertical-align: top;\n",
       "    }\n",
       "\n",
       "    .dataframe thead th {\n",
       "        text-align: right;\n",
       "    }\n",
       "</style>\n",
       "<table border=\"1\" class=\"dataframe\">\n",
       "  <thead>\n",
       "    <tr style=\"text-align: right;\">\n",
       "      <th></th>\n",
       "      <th>date</th>\n",
       "      <th>close</th>\n",
       "      <th>high</th>\n",
       "      <th>low</th>\n",
       "      <th>open</th>\n",
       "      <th>volume</th>\n",
       "      <th>spy_adjClose</th>\n",
       "      <th>adjHigh</th>\n",
       "      <th>adjLow</th>\n",
       "      <th>adjOpen</th>\n",
       "      <th>adjVolume</th>\n",
       "      <th>divCash</th>\n",
       "      <th>splitFactor</th>\n",
       "    </tr>\n",
       "  </thead>\n",
       "  <tbody>\n",
       "    <tr>\n",
       "      <th>0</th>\n",
       "      <td>1993-01-29</td>\n",
       "      <td>43.9375</td>\n",
       "      <td>43.9687</td>\n",
       "      <td>43.7500</td>\n",
       "      <td>43.9687</td>\n",
       "      <td>1003200</td>\n",
       "      <td>24.367308</td>\n",
       "      <td>24.384612</td>\n",
       "      <td>24.263323</td>\n",
       "      <td>24.384612</td>\n",
       "      <td>1003200</td>\n",
       "      <td>0.0</td>\n",
       "      <td>1.0</td>\n",
       "    </tr>\n",
       "    <tr>\n",
       "      <th>1</th>\n",
       "      <td>1993-02-01</td>\n",
       "      <td>44.2500</td>\n",
       "      <td>44.2500</td>\n",
       "      <td>43.9687</td>\n",
       "      <td>43.9687</td>\n",
       "      <td>480500</td>\n",
       "      <td>24.540618</td>\n",
       "      <td>24.540618</td>\n",
       "      <td>24.384612</td>\n",
       "      <td>24.384612</td>\n",
       "      <td>480500</td>\n",
       "      <td>0.0</td>\n",
       "      <td>1.0</td>\n",
       "    </tr>\n",
       "    <tr>\n",
       "      <th>2</th>\n",
       "      <td>1993-02-02</td>\n",
       "      <td>44.3437</td>\n",
       "      <td>44.3750</td>\n",
       "      <td>44.1250</td>\n",
       "      <td>44.2187</td>\n",
       "      <td>201300</td>\n",
       "      <td>24.592583</td>\n",
       "      <td>24.609942</td>\n",
       "      <td>24.471294</td>\n",
       "      <td>24.523259</td>\n",
       "      <td>201300</td>\n",
       "      <td>0.0</td>\n",
       "      <td>1.0</td>\n",
       "    </tr>\n",
       "    <tr>\n",
       "      <th>3</th>\n",
       "      <td>1993-02-03</td>\n",
       "      <td>44.8125</td>\n",
       "      <td>44.8437</td>\n",
       "      <td>44.3750</td>\n",
       "      <td>44.4062</td>\n",
       "      <td>529400</td>\n",
       "      <td>24.852575</td>\n",
       "      <td>24.869878</td>\n",
       "      <td>24.609942</td>\n",
       "      <td>24.627245</td>\n",
       "      <td>529400</td>\n",
       "      <td>0.0</td>\n",
       "      <td>1.0</td>\n",
       "    </tr>\n",
       "    <tr>\n",
       "      <th>4</th>\n",
       "      <td>1993-02-04</td>\n",
       "      <td>45.0000</td>\n",
       "      <td>45.0937</td>\n",
       "      <td>44.4687</td>\n",
       "      <td>44.9687</td>\n",
       "      <td>531500</td>\n",
       "      <td>24.956560</td>\n",
       "      <td>25.008526</td>\n",
       "      <td>24.661907</td>\n",
       "      <td>24.939202</td>\n",
       "      <td>531500</td>\n",
       "      <td>0.0</td>\n",
       "      <td>1.0</td>\n",
       "    </tr>\n",
       "  </tbody>\n",
       "</table>\n",
       "</div>"
      ],
      "text/plain": [
       "         date    close     high      low     open   volume  spy_adjClose  \\\n",
       "0  1993-01-29  43.9375  43.9687  43.7500  43.9687  1003200     24.367308   \n",
       "1  1993-02-01  44.2500  44.2500  43.9687  43.9687   480500     24.540618   \n",
       "2  1993-02-02  44.3437  44.3750  44.1250  44.2187   201300     24.592583   \n",
       "3  1993-02-03  44.8125  44.8437  44.3750  44.4062   529400     24.852575   \n",
       "4  1993-02-04  45.0000  45.0937  44.4687  44.9687   531500     24.956560   \n",
       "\n",
       "     adjHigh     adjLow    adjOpen  adjVolume  divCash  splitFactor  \n",
       "0  24.384612  24.263323  24.384612    1003200      0.0          1.0  \n",
       "1  24.540618  24.384612  24.384612     480500      0.0          1.0  \n",
       "2  24.609942  24.471294  24.523259     201300      0.0          1.0  \n",
       "3  24.869878  24.609942  24.627245     529400      0.0          1.0  \n",
       "4  25.008526  24.661907  24.939202     531500      0.0          1.0  "
      ]
     },
     "execution_count": 22,
     "metadata": {},
     "output_type": "execute_result"
    }
   ],
   "source": [
    "# Import stocks data\n",
    "spy_data = pd.read_csv(\"SPY.csv\")\n",
    "\n",
    "# Both data have the same column names, I'm going to rename the adjClose columns\n",
    "spy_rename = spy_data.rename(columns={'adjClose': 'spy_adjClose'})\n",
    "\n",
    "spy_rename.head(5)"
   ]
  },
  {
   "cell_type": "code",
   "execution_count": 23,
   "metadata": {},
   "outputs": [
    {
     "name": "stdout",
     "output_type": "stream",
     "text": [
      "Index(['date', 'close', 'high', 'low', 'open', 'volume', 'spy_adjClose',\n",
      "       'adjHigh', 'adjLow', 'adjOpen', 'adjVolume', 'divCash', 'splitFactor'],\n",
      "      dtype='object')\n",
      "(8169, 13)\n",
      "date             object\n",
      "close           float64\n",
      "high            float64\n",
      "low             float64\n",
      "open            float64\n",
      "volume            int64\n",
      "spy_adjClose    float64\n",
      "adjHigh         float64\n",
      "adjLow          float64\n",
      "adjOpen         float64\n",
      "adjVolume         int64\n",
      "divCash         float64\n",
      "splitFactor     float64\n",
      "dtype: object\n"
     ]
    }
   ],
   "source": [
    "print(spy_rename.columns)\n",
    "print(spy_rename.shape)\n",
    "print(spy_rename.dtypes)"
   ]
  },
  {
   "cell_type": "code",
   "execution_count": 24,
   "metadata": {},
   "outputs": [
    {
     "data": {
      "text/plain": [
       "np.False_"
      ]
     },
     "execution_count": 24,
     "metadata": {},
     "output_type": "execute_result"
    }
   ],
   "source": [
    "# Checking missing values\n",
    "spy_rename.isnull().values.any()"
   ]
  },
  {
   "cell_type": "markdown",
   "metadata": {},
   "source": [
    "Great! We don't have any missing value in our spy_raname dataset."
   ]
  },
  {
   "cell_type": "code",
   "execution_count": 25,
   "metadata": {},
   "outputs": [
    {
     "data": {
      "text/html": [
       "<div>\n",
       "<style scoped>\n",
       "    .dataframe tbody tr th:only-of-type {\n",
       "        vertical-align: middle;\n",
       "    }\n",
       "\n",
       "    .dataframe tbody tr th {\n",
       "        vertical-align: top;\n",
       "    }\n",
       "\n",
       "    .dataframe thead th {\n",
       "        text-align: right;\n",
       "    }\n",
       "</style>\n",
       "<table border=\"1\" class=\"dataframe\">\n",
       "  <thead>\n",
       "    <tr style=\"text-align: right;\">\n",
       "      <th></th>\n",
       "      <th>date</th>\n",
       "      <th>close</th>\n",
       "      <th>high</th>\n",
       "      <th>low</th>\n",
       "      <th>open</th>\n",
       "      <th>volume</th>\n",
       "      <th>tlt_adjClose</th>\n",
       "      <th>adjHigh</th>\n",
       "      <th>adjLow</th>\n",
       "      <th>adjOpen</th>\n",
       "      <th>adjVolume</th>\n",
       "      <th>divCash</th>\n",
       "      <th>splitFactor</th>\n",
       "    </tr>\n",
       "  </thead>\n",
       "  <tbody>\n",
       "    <tr>\n",
       "      <th>0</th>\n",
       "      <td>2002-07-26</td>\n",
       "      <td>82.51</td>\n",
       "      <td>82.80</td>\n",
       "      <td>82.42</td>\n",
       "      <td>82.67</td>\n",
       "      <td>316300</td>\n",
       "      <td>37.841243</td>\n",
       "      <td>37.974245</td>\n",
       "      <td>37.799967</td>\n",
       "      <td>37.914623</td>\n",
       "      <td>316300</td>\n",
       "      <td>0.0</td>\n",
       "      <td>1.0</td>\n",
       "    </tr>\n",
       "    <tr>\n",
       "      <th>1</th>\n",
       "      <td>2002-07-29</td>\n",
       "      <td>81.42</td>\n",
       "      <td>82.16</td>\n",
       "      <td>81.32</td>\n",
       "      <td>82.06</td>\n",
       "      <td>8400</td>\n",
       "      <td>37.341341</td>\n",
       "      <td>37.680724</td>\n",
       "      <td>37.295478</td>\n",
       "      <td>37.634861</td>\n",
       "      <td>8400</td>\n",
       "      <td>0.0</td>\n",
       "      <td>1.0</td>\n",
       "    </tr>\n",
       "    <tr>\n",
       "      <th>2</th>\n",
       "      <td>2002-07-30</td>\n",
       "      <td>81.52</td>\n",
       "      <td>81.90</td>\n",
       "      <td>81.52</td>\n",
       "      <td>81.75</td>\n",
       "      <td>6100</td>\n",
       "      <td>37.387203</td>\n",
       "      <td>37.561481</td>\n",
       "      <td>37.387203</td>\n",
       "      <td>37.492687</td>\n",
       "      <td>6100</td>\n",
       "      <td>0.0</td>\n",
       "      <td>1.0</td>\n",
       "    </tr>\n",
       "    <tr>\n",
       "      <th>3</th>\n",
       "      <td>2002-07-31</td>\n",
       "      <td>82.53</td>\n",
       "      <td>82.80</td>\n",
       "      <td>81.90</td>\n",
       "      <td>81.95</td>\n",
       "      <td>29400</td>\n",
       "      <td>37.850416</td>\n",
       "      <td>37.974245</td>\n",
       "      <td>37.561481</td>\n",
       "      <td>37.584413</td>\n",
       "      <td>29400</td>\n",
       "      <td>0.0</td>\n",
       "      <td>1.0</td>\n",
       "    </tr>\n",
       "    <tr>\n",
       "      <th>4</th>\n",
       "      <td>2002-08-01</td>\n",
       "      <td>83.00</td>\n",
       "      <td>83.02</td>\n",
       "      <td>82.54</td>\n",
       "      <td>82.54</td>\n",
       "      <td>25000</td>\n",
       "      <td>38.065970</td>\n",
       "      <td>38.075143</td>\n",
       "      <td>37.855002</td>\n",
       "      <td>37.855002</td>\n",
       "      <td>25000</td>\n",
       "      <td>0.0</td>\n",
       "      <td>1.0</td>\n",
       "    </tr>\n",
       "  </tbody>\n",
       "</table>\n",
       "</div>"
      ],
      "text/plain": [
       "         date  close   high    low   open  volume  tlt_adjClose    adjHigh  \\\n",
       "0  2002-07-26  82.51  82.80  82.42  82.67  316300     37.841243  37.974245   \n",
       "1  2002-07-29  81.42  82.16  81.32  82.06    8400     37.341341  37.680724   \n",
       "2  2002-07-30  81.52  81.90  81.52  81.75    6100     37.387203  37.561481   \n",
       "3  2002-07-31  82.53  82.80  81.90  81.95   29400     37.850416  37.974245   \n",
       "4  2002-08-01  83.00  83.02  82.54  82.54   25000     38.065970  38.075143   \n",
       "\n",
       "      adjLow    adjOpen  adjVolume  divCash  splitFactor  \n",
       "0  37.799967  37.914623     316300      0.0          1.0  \n",
       "1  37.295478  37.634861       8400      0.0          1.0  \n",
       "2  37.387203  37.492687       6100      0.0          1.0  \n",
       "3  37.561481  37.584413      29400      0.0          1.0  \n",
       "4  37.855002  37.855002      25000      0.0          1.0  "
      ]
     },
     "execution_count": 25,
     "metadata": {},
     "output_type": "execute_result"
    }
   ],
   "source": [
    "# Import bond data\n",
    "tlt_data = pd.read_csv(\"tlt.csv\")\n",
    "\n",
    "# Both data have the same column names, I'm going to rename the adjClose columns\n",
    "tlt_rename = tlt_data.rename(columns={'adjClose': 'tlt_adjClose'})\n",
    "\n",
    "tlt_rename.head(5)"
   ]
  },
  {
   "cell_type": "code",
   "execution_count": 26,
   "metadata": {},
   "outputs": [
    {
     "name": "stdout",
     "output_type": "stream",
     "text": [
      "Index(['date', 'close', 'high', 'low', 'open', 'volume', 'tlt_adjClose',\n",
      "       'adjHigh', 'adjLow', 'adjOpen', 'adjVolume', 'divCash', 'splitFactor'],\n",
      "      dtype='object')\n",
      "(5778, 13)\n",
      "date             object\n",
      "close           float64\n",
      "high            float64\n",
      "low             float64\n",
      "open            float64\n",
      "volume            int64\n",
      "tlt_adjClose    float64\n",
      "adjHigh         float64\n",
      "adjLow          float64\n",
      "adjOpen         float64\n",
      "adjVolume         int64\n",
      "divCash         float64\n",
      "splitFactor     float64\n",
      "dtype: object\n"
     ]
    }
   ],
   "source": [
    "print(tlt_rename.columns)\n",
    "print(tlt_rename.shape)\n",
    "print(tlt_rename.dtypes)"
   ]
  },
  {
   "cell_type": "code",
   "execution_count": 27,
   "metadata": {},
   "outputs": [
    {
     "data": {
      "text/plain": [
       "np.False_"
      ]
     },
     "execution_count": 27,
     "metadata": {},
     "output_type": "execute_result"
    }
   ],
   "source": [
    "# Checking missing values for tlt dataset\n",
    "tlt_rename.isnull().values.any()"
   ]
  },
  {
   "cell_type": "markdown",
   "metadata": {},
   "source": [
    "Great! We don't have any missing value in our tlt_raname dataset."
   ]
  },
  {
   "cell_type": "code",
   "execution_count": 28,
   "metadata": {},
   "outputs": [],
   "source": [
    "# Both data have the same column names, I'm going to rename the adjClose columns\n",
    "# spy_df = pd.DataFrame(spy_data)\n",
    "# tlt_df = pd.DataFrame(tlt_data)\n",
    "\n",
    "# spy_df_renamed = spy_df.rename(columns={'adjClose': 'spy_adjClose'})\n",
    "# tlt_df_renamed = tlt_df.rename(columns={'adjClose': 'tlt_adjClose'})\n",
    "\n",
    "# print(spy_df_renamed)\n",
    "# print(tlt_df_renamed)"
   ]
  },
  {
   "cell_type": "code",
   "execution_count": 29,
   "metadata": {},
   "outputs": [
    {
     "name": "stdout",
     "output_type": "stream",
     "text": [
      "SPY Table:\n",
      "\n",
      "         date    close     high      low     open   volume  spy_adjClose  \\\n",
      "0  1993-01-29  43.9375  43.9687  43.7500  43.9687  1003200     24.367308   \n",
      "1  1993-02-01  44.2500  44.2500  43.9687  43.9687   480500     24.540618   \n",
      "2  1993-02-02  44.3437  44.3750  44.1250  44.2187   201300     24.592583   \n",
      "3  1993-02-03  44.8125  44.8437  44.3750  44.4062   529400     24.852575   \n",
      "4  1993-02-04  45.0000  45.0937  44.4687  44.9687   531500     24.956560   \n",
      "\n",
      "     adjHigh     adjLow    adjOpen  adjVolume  divCash  splitFactor  \n",
      "0  24.384612  24.263323  24.384612    1003200      0.0          1.0  \n",
      "1  24.540618  24.384612  24.384612     480500      0.0          1.0  \n",
      "2  24.609942  24.471294  24.523259     201300      0.0          1.0  \n",
      "3  24.869878  24.609942  24.627245     529400      0.0          1.0  \n",
      "4  25.008526  24.661907  24.939202     531500      0.0          1.0  \n",
      "\n",
      "TLT Table:\n",
      "\n",
      "         date  close   high    low   open  volume  tlt_adjClose    adjHigh  \\\n",
      "0  2002-07-26  82.51  82.80  82.42  82.67  316300     37.841243  37.974245   \n",
      "1  2002-07-29  81.42  82.16  81.32  82.06    8400     37.341341  37.680724   \n",
      "2  2002-07-30  81.52  81.90  81.52  81.75    6100     37.387203  37.561481   \n",
      "3  2002-07-31  82.53  82.80  81.90  81.95   29400     37.850416  37.974245   \n",
      "4  2002-08-01  83.00  83.02  82.54  82.54   25000     38.065970  38.075143   \n",
      "\n",
      "      adjLow    adjOpen  adjVolume  divCash  splitFactor  \n",
      "0  37.799967  37.914623     316300      0.0          1.0  \n",
      "1  37.295478  37.634861       8400      0.0          1.0  \n",
      "2  37.387203  37.492687       6100      0.0          1.0  \n",
      "3  37.561481  37.584413      29400      0.0          1.0  \n",
      "4  37.855002  37.855002      25000      0.0          1.0  \n"
     ]
    }
   ],
   "source": [
    "# Create SQLite database and tables\n",
    "conn = sqlite3.connect(\"example.db\")\n",
    "cursor = conn.cursor()\n",
    "\n",
    "# Create tables spy_data\n",
    "cursor.execute(\"\"\"\n",
    "CREATE TABLE IF NOT EXISTS spy (\n",
    "   date TEXT NOT NULL PRIMARY KEY,\n",
    "   spy_adjClose FLOAT NOT NULL             \n",
    ");\n",
    "\"\"\")\n",
    "\n",
    "# Create tables tlt_data\n",
    "cursor.execute(\"\"\"\n",
    "CREATE TABLE IF NOT EXISTS tlt (\n",
    "   date TEXT NOT NULL PRIMARY KEY,\n",
    "   tlt_adjClose FLOAT NOT NULL             \n",
    ");\n",
    "\"\"\")\n",
    "\n",
    "# Insert data into tables\n",
    "spy_rename.to_sql(\"spy\", conn, if_exists=\"replace\", index=False)\n",
    "tlt_rename.to_sql(\"tlt\", conn, if_exists=\"replace\", index=False)\n",
    "\n",
    "# Verify data was inserted\n",
    "print(\"SPY Table:\\n\")\n",
    "print(pd.read_sql_query(\"SELECT * FROM spy\", conn).head(5))\n",
    "\n",
    "print(\"\\nTLT Table:\\n\")\n",
    "print(pd.read_sql_query(\"SELECT * FROM tlt\", conn).head(5))\n",
    "\n"
   ]
  },
  {
   "cell_type": "code",
   "execution_count": 30,
   "metadata": {},
   "outputs": [],
   "source": [
    "# Setting up query function\n",
    "def query(query:str):\n",
    "    return pd.read_sql(query, conn)"
   ]
  },
  {
   "cell_type": "code",
   "execution_count": 31,
   "metadata": {},
   "outputs": [
    {
     "name": "stdout",
     "output_type": "stream",
     "text": [
      "            date  spy_adjClose  tlt_adjClose\n",
      "0     2002-07-26     55.824445     37.841243\n",
      "1     2002-07-29     58.543930     37.341341\n",
      "2     2002-07-30     59.306954     37.387203\n",
      "3     2002-07-31     59.450430     37.850416\n",
      "4     2002-08-01     57.898298     38.065970\n",
      "...          ...           ...           ...\n",
      "5773  2025-07-08    620.340000     86.030000\n",
      "5774  2025-07-09    624.060000     86.930000\n",
      "5775  2025-07-10    625.820000     86.990000\n",
      "5776  2025-07-11    623.620000     85.790000\n",
      "5777  2025-07-14    624.810000     85.610000\n",
      "\n",
      "[5778 rows x 3 columns]\n"
     ]
    }
   ],
   "source": [
    "# Join two datasets. \n",
    "final_query = \"\"\"\n",
    "SELECT spy.date, spy.spy_adjClose, tlt.tlt_adjClose\n",
    "FROM spy\n",
    "INNER JOIN tlt\n",
    "    ON spy.date = tlt.date;\n",
    "\"\"\"\n",
    "final_data = query(final_query)\n",
    "\n",
    "print(final_data)"
   ]
  },
  {
   "cell_type": "code",
   "execution_count": 32,
   "metadata": {},
   "outputs": [],
   "source": [
    "final_data.to_csv('clean_data.csv', index=False)"
   ]
  }
 ],
 "metadata": {
  "kernelspec": {
   "display_name": "venv",
   "language": "python",
   "name": "python3"
  },
  "language_info": {
   "codemirror_mode": {
    "name": "ipython",
    "version": 3
   },
   "file_extension": ".py",
   "mimetype": "text/x-python",
   "name": "python",
   "nbconvert_exporter": "python",
   "pygments_lexer": "ipython3",
   "version": "3.13.4"
  },
  "orig_nbformat": 4
 },
 "nbformat": 4,
 "nbformat_minor": 2
}
