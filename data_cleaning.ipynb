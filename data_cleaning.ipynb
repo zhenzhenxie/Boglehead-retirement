{
 "cells": [
  {
   "cell_type": "code",
   "execution_count": 123,
   "metadata": {},
   "outputs": [],
   "source": [
    "import sqlite3\n",
    "import pandas as pd\n",
    "import tabulate\n",
    "import mplfinance as mpf\n",
    "import datetime as dt"
   ]
  },
  {
   "cell_type": "code",
   "execution_count": 124,
   "metadata": {},
   "outputs": [
    {
     "data": {
      "text/html": [
       "<div>\n",
       "<style scoped>\n",
       "    .dataframe tbody tr th:only-of-type {\n",
       "        vertical-align: middle;\n",
       "    }\n",
       "\n",
       "    .dataframe tbody tr th {\n",
       "        vertical-align: top;\n",
       "    }\n",
       "\n",
       "    .dataframe thead th {\n",
       "        text-align: right;\n",
       "    }\n",
       "</style>\n",
       "<table border=\"1\" class=\"dataframe\">\n",
       "  <thead>\n",
       "    <tr style=\"text-align: right;\">\n",
       "      <th></th>\n",
       "      <th>date</th>\n",
       "      <th>spy_close</th>\n",
       "      <th>high</th>\n",
       "      <th>low</th>\n",
       "      <th>open</th>\n",
       "      <th>volume</th>\n",
       "      <th>spy_adjClose</th>\n",
       "      <th>adjHigh</th>\n",
       "      <th>adjLow</th>\n",
       "      <th>adjOpen</th>\n",
       "      <th>adjVolume</th>\n",
       "      <th>spy_divCash</th>\n",
       "      <th>splitFactor</th>\n",
       "      <th>spy_diff</th>\n",
       "    </tr>\n",
       "  </thead>\n",
       "  <tbody>\n",
       "    <tr>\n",
       "      <th>0</th>\n",
       "      <td>1993-01-29</td>\n",
       "      <td>43.9375</td>\n",
       "      <td>43.9687</td>\n",
       "      <td>43.7500</td>\n",
       "      <td>43.9687</td>\n",
       "      <td>1003200</td>\n",
       "      <td>24.367308</td>\n",
       "      <td>24.384612</td>\n",
       "      <td>24.263323</td>\n",
       "      <td>24.384612</td>\n",
       "      <td>1003200</td>\n",
       "      <td>0.0</td>\n",
       "      <td>1.0</td>\n",
       "      <td>19.570192</td>\n",
       "    </tr>\n",
       "    <tr>\n",
       "      <th>1</th>\n",
       "      <td>1993-02-01</td>\n",
       "      <td>44.2500</td>\n",
       "      <td>44.2500</td>\n",
       "      <td>43.9687</td>\n",
       "      <td>43.9687</td>\n",
       "      <td>480500</td>\n",
       "      <td>24.540618</td>\n",
       "      <td>24.540618</td>\n",
       "      <td>24.384612</td>\n",
       "      <td>24.384612</td>\n",
       "      <td>480500</td>\n",
       "      <td>0.0</td>\n",
       "      <td>1.0</td>\n",
       "      <td>19.709382</td>\n",
       "    </tr>\n",
       "    <tr>\n",
       "      <th>2</th>\n",
       "      <td>1993-02-02</td>\n",
       "      <td>44.3437</td>\n",
       "      <td>44.3750</td>\n",
       "      <td>44.1250</td>\n",
       "      <td>44.2187</td>\n",
       "      <td>201300</td>\n",
       "      <td>24.592583</td>\n",
       "      <td>24.609942</td>\n",
       "      <td>24.471294</td>\n",
       "      <td>24.523259</td>\n",
       "      <td>201300</td>\n",
       "      <td>0.0</td>\n",
       "      <td>1.0</td>\n",
       "      <td>19.751117</td>\n",
       "    </tr>\n",
       "    <tr>\n",
       "      <th>3</th>\n",
       "      <td>1993-02-03</td>\n",
       "      <td>44.8125</td>\n",
       "      <td>44.8437</td>\n",
       "      <td>44.3750</td>\n",
       "      <td>44.4062</td>\n",
       "      <td>529400</td>\n",
       "      <td>24.852575</td>\n",
       "      <td>24.869878</td>\n",
       "      <td>24.609942</td>\n",
       "      <td>24.627245</td>\n",
       "      <td>529400</td>\n",
       "      <td>0.0</td>\n",
       "      <td>1.0</td>\n",
       "      <td>19.959925</td>\n",
       "    </tr>\n",
       "    <tr>\n",
       "      <th>4</th>\n",
       "      <td>1993-02-04</td>\n",
       "      <td>45.0000</td>\n",
       "      <td>45.0937</td>\n",
       "      <td>44.4687</td>\n",
       "      <td>44.9687</td>\n",
       "      <td>531500</td>\n",
       "      <td>24.956560</td>\n",
       "      <td>25.008526</td>\n",
       "      <td>24.661907</td>\n",
       "      <td>24.939202</td>\n",
       "      <td>531500</td>\n",
       "      <td>0.0</td>\n",
       "      <td>1.0</td>\n",
       "      <td>20.043440</td>\n",
       "    </tr>\n",
       "  </tbody>\n",
       "</table>\n",
       "</div>"
      ],
      "text/plain": [
       "         date  spy_close     high      low     open   volume  spy_adjClose  \\\n",
       "0  1993-01-29    43.9375  43.9687  43.7500  43.9687  1003200     24.367308   \n",
       "1  1993-02-01    44.2500  44.2500  43.9687  43.9687   480500     24.540618   \n",
       "2  1993-02-02    44.3437  44.3750  44.1250  44.2187   201300     24.592583   \n",
       "3  1993-02-03    44.8125  44.8437  44.3750  44.4062   529400     24.852575   \n",
       "4  1993-02-04    45.0000  45.0937  44.4687  44.9687   531500     24.956560   \n",
       "\n",
       "     adjHigh     adjLow    adjOpen  adjVolume  spy_divCash  splitFactor  \\\n",
       "0  24.384612  24.263323  24.384612    1003200          0.0          1.0   \n",
       "1  24.540618  24.384612  24.384612     480500          0.0          1.0   \n",
       "2  24.609942  24.471294  24.523259     201300          0.0          1.0   \n",
       "3  24.869878  24.609942  24.627245     529400          0.0          1.0   \n",
       "4  25.008526  24.661907  24.939202     531500          0.0          1.0   \n",
       "\n",
       "    spy_diff  \n",
       "0  19.570192  \n",
       "1  19.709382  \n",
       "2  19.751117  \n",
       "3  19.959925  \n",
       "4  20.043440  "
      ]
     },
     "execution_count": 124,
     "metadata": {},
     "output_type": "execute_result"
    }
   ],
   "source": [
    "# Import stocks data\n",
    "spy_data = pd.read_csv(\"SPY.csv\")\n",
    "\n",
    "# Both data have the same column names, I'm going to rename some columns\n",
    "spy_rename = spy_data.rename(columns={'close': 'spy_close', 'adjClose': 'spy_adjClose', 'divCash' : 'spy_divCash'})\n",
    "\n",
    "# Add new column 'spy_diff' as the difference between spy_close and spy_adjClose\n",
    "spy_rename['spy_diff'] = spy_rename['spy_close'] - spy_rename['spy_adjClose']\n",
    "\n",
    "spy_rename.head(5)"
   ]
  },
  {
   "cell_type": "code",
   "execution_count": 125,
   "metadata": {},
   "outputs": [
    {
     "name": "stdout",
     "output_type": "stream",
     "text": [
      "Index(['date', 'spy_close', 'high', 'low', 'open', 'volume', 'spy_adjClose',\n",
      "       'adjHigh', 'adjLow', 'adjOpen', 'adjVolume', 'spy_divCash',\n",
      "       'splitFactor', 'spy_diff'],\n",
      "      dtype='object')\n",
      "(8169, 14)\n",
      "date             object\n",
      "spy_close       float64\n",
      "high            float64\n",
      "low             float64\n",
      "open            float64\n",
      "volume            int64\n",
      "spy_adjClose    float64\n",
      "adjHigh         float64\n",
      "adjLow          float64\n",
      "adjOpen         float64\n",
      "adjVolume         int64\n",
      "spy_divCash     float64\n",
      "splitFactor     float64\n",
      "spy_diff        float64\n",
      "dtype: object\n"
     ]
    }
   ],
   "source": [
    "print(spy_rename.columns)\n",
    "print(spy_rename.shape)\n",
    "print(spy_rename.dtypes)"
   ]
  },
  {
   "cell_type": "code",
   "execution_count": 126,
   "metadata": {},
   "outputs": [
    {
     "data": {
      "text/plain": [
       "np.False_"
      ]
     },
     "execution_count": 126,
     "metadata": {},
     "output_type": "execute_result"
    }
   ],
   "source": [
    "# Checking missing values\n",
    "spy_rename.isnull().values.any()"
   ]
  },
  {
   "cell_type": "markdown",
   "metadata": {},
   "source": [
    "Great! We don't have any missing value in our spy_raname dataset."
   ]
  },
  {
   "cell_type": "code",
   "execution_count": 127,
   "metadata": {},
   "outputs": [
    {
     "name": "stderr",
     "output_type": "stream",
     "text": [
      "C:\\Users\\xzzlo\\AppData\\Local\\Temp\\ipykernel_6332\\3924228802.py:7: SettingWithCopyWarning: \n",
      "A value is trying to be set on a copy of a slice from a DataFrame.\n",
      "Try using .loc[row_indexer,col_indexer] = value instead\n",
      "\n",
      "See the caveats in the documentation: https://pandas.pydata.org/pandas-docs/stable/user_guide/indexing.html#returning-a-view-versus-a-copy\n",
      "  date_range['Open'] = date_range['open']\n",
      "C:\\Users\\xzzlo\\AppData\\Local\\Temp\\ipykernel_6332\\3924228802.py:8: SettingWithCopyWarning: \n",
      "A value is trying to be set on a copy of a slice from a DataFrame.\n",
      "Try using .loc[row_indexer,col_indexer] = value instead\n",
      "\n",
      "See the caveats in the documentation: https://pandas.pydata.org/pandas-docs/stable/user_guide/indexing.html#returning-a-view-versus-a-copy\n",
      "  date_range['High'] = date_range['high']\n",
      "C:\\Users\\xzzlo\\AppData\\Local\\Temp\\ipykernel_6332\\3924228802.py:9: SettingWithCopyWarning: \n",
      "A value is trying to be set on a copy of a slice from a DataFrame.\n",
      "Try using .loc[row_indexer,col_indexer] = value instead\n",
      "\n",
      "See the caveats in the documentation: https://pandas.pydata.org/pandas-docs/stable/user_guide/indexing.html#returning-a-view-versus-a-copy\n",
      "  date_range['Low'] = date_range['low']\n",
      "C:\\Users\\xzzlo\\AppData\\Local\\Temp\\ipykernel_6332\\3924228802.py:10: SettingWithCopyWarning: \n",
      "A value is trying to be set on a copy of a slice from a DataFrame.\n",
      "Try using .loc[row_indexer,col_indexer] = value instead\n",
      "\n",
      "See the caveats in the documentation: https://pandas.pydata.org/pandas-docs/stable/user_guide/indexing.html#returning-a-view-versus-a-copy\n",
      "  date_range['Close'] = date_range['spy_close']\n"
     ]
    },
    {
     "data": {
      "image/png": "[encoded data removed]",
      "text/plain": [
       "<Figure size 2000x1400 with 2 Axes>"
      ]
     },
     "metadata": {},
     "output_type": "display_data"
    }
   ],
   "source": [
    "# Plot the open, high, low, close price of spy for data in 2025 using candlestick chart\n",
    "spy_rename.columns = spy_rename.columns.str.strip()\n",
    "spy_rename['date'] = pd.to_datetime(spy_rename['date'])\n",
    "# Set the date column as the dataframe index\n",
    "spy_rename.set_index('date', inplace=True)\n",
    "date_range = spy_rename.loc['2025-01-01': '2025-07-01']\n",
    "date_range['Open'] = date_range['open']\n",
    "date_range['High'] = date_range['high']\n",
    "date_range['Low'] = date_range['low']\n",
    "date_range['Close'] = date_range['spy_close']\n",
    "\n",
    "ohlc = date_range[['Open', 'High', 'Low', 'Close']]\n",
    "mpf.plot(ohlc, type='candle', style='yahoo', title='SPY Candlestick Chart', ylabel='Price (USD)', volume=False, figsize=(20,14))"
   ]
  },
  {
   "cell_type": "markdown",
   "metadata": {},
   "source": [
    "The candlestick chart shows the open, close, high and low prices for the time range from 2025-01-01 to 2025-07-01 for spy stock. Green means the close price is higher than open price. Red means the close price is lower than open price."
   ]
  },
  {
   "cell_type": "code",
   "execution_count": 128,
   "metadata": {},
   "outputs": [
    {
     "name": "stdout",
     "output_type": "stream",
     "text": [
      "         date  spy_close     high      low     open   volume  spy_adjClose  \\\n",
      "0  1993-01-29    43.9375  43.9687  43.7500  43.9687  1003200     24.367308   \n",
      "1  1993-02-01    44.2500  44.2500  43.9687  43.9687   480500     24.540618   \n",
      "2  1993-02-02    44.3437  44.3750  44.1250  44.2187   201300     24.592583   \n",
      "3  1993-02-03    44.8125  44.8437  44.3750  44.4062   529400     24.852575   \n",
      "4  1993-02-04    45.0000  45.0937  44.4687  44.9687   531500     24.956560   \n",
      "\n",
      "     adjHigh     adjLow    adjOpen  adjVolume  spy_divCash  splitFactor  \\\n",
      "0  24.384612  24.263323  24.384612    1003200          0.0          1.0   \n",
      "1  24.540618  24.384612  24.384612     480500          0.0          1.0   \n",
      "2  24.609942  24.471294  24.523259     201300          0.0          1.0   \n",
      "3  24.869878  24.609942  24.627245     529400          0.0          1.0   \n",
      "4  25.008526  24.661907  24.939202     531500          0.0          1.0   \n",
      "\n",
      "    spy_diff  \n",
      "0  19.570192  \n",
      "1  19.709382  \n",
      "2  19.751117  \n",
      "3  19.959925  \n",
      "4  20.043440  \n"
     ]
    }
   ],
   "source": [
    "# Reset 'date' index to 'date' column\n",
    "#from datetime import datetime\n",
    "spy_rename = spy_rename.reset_index()\n",
    "spy_rename['date'] = spy_rename['date'].dt.date\n",
    "print(spy_rename.head(5))"
   ]
  },
  {
   "cell_type": "code",
   "execution_count": 104,
   "metadata": {},
   "outputs": [
    {
     "data": {
      "text/html": [
       "<div>\n",
       "<style scoped>\n",
       "    .dataframe tbody tr th:only-of-type {\n",
       "        vertical-align: middle;\n",
       "    }\n",
       "\n",
       "    .dataframe tbody tr th {\n",
       "        vertical-align: top;\n",
       "    }\n",
       "\n",
       "    .dataframe thead th {\n",
       "        text-align: right;\n",
       "    }\n",
       "</style>\n",
       "<table border=\"1\" class=\"dataframe\">\n",
       "  <thead>\n",
       "    <tr style=\"text-align: right;\">\n",
       "      <th></th>\n",
       "      <th>date</th>\n",
       "      <th>tlt_close</th>\n",
       "      <th>high</th>\n",
       "      <th>low</th>\n",
       "      <th>open</th>\n",
       "      <th>volume</th>\n",
       "      <th>tlt_adjClose</th>\n",
       "      <th>adjHigh</th>\n",
       "      <th>adjLow</th>\n",
       "      <th>adjOpen</th>\n",
       "      <th>adjVolume</th>\n",
       "      <th>tlt_divCash</th>\n",
       "      <th>splitFactor</th>\n",
       "      <th>tlt_diff</th>\n",
       "    </tr>\n",
       "  </thead>\n",
       "  <tbody>\n",
       "    <tr>\n",
       "      <th>0</th>\n",
       "      <td>2002-07-26</td>\n",
       "      <td>82.51</td>\n",
       "      <td>82.80</td>\n",
       "      <td>82.42</td>\n",
       "      <td>82.67</td>\n",
       "      <td>316300</td>\n",
       "      <td>37.841243</td>\n",
       "      <td>37.974245</td>\n",
       "      <td>37.799967</td>\n",
       "      <td>37.914623</td>\n",
       "      <td>316300</td>\n",
       "      <td>0.0</td>\n",
       "      <td>1.0</td>\n",
       "      <td>44.668757</td>\n",
       "    </tr>\n",
       "    <tr>\n",
       "      <th>1</th>\n",
       "      <td>2002-07-29</td>\n",
       "      <td>81.42</td>\n",
       "      <td>82.16</td>\n",
       "      <td>81.32</td>\n",
       "      <td>82.06</td>\n",
       "      <td>8400</td>\n",
       "      <td>37.341341</td>\n",
       "      <td>37.680724</td>\n",
       "      <td>37.295478</td>\n",
       "      <td>37.634861</td>\n",
       "      <td>8400</td>\n",
       "      <td>0.0</td>\n",
       "      <td>1.0</td>\n",
       "      <td>44.078659</td>\n",
       "    </tr>\n",
       "    <tr>\n",
       "      <th>2</th>\n",
       "      <td>2002-07-30</td>\n",
       "      <td>81.52</td>\n",
       "      <td>81.90</td>\n",
       "      <td>81.52</td>\n",
       "      <td>81.75</td>\n",
       "      <td>6100</td>\n",
       "      <td>37.387203</td>\n",
       "      <td>37.561481</td>\n",
       "      <td>37.387203</td>\n",
       "      <td>37.492687</td>\n",
       "      <td>6100</td>\n",
       "      <td>0.0</td>\n",
       "      <td>1.0</td>\n",
       "      <td>44.132797</td>\n",
       "    </tr>\n",
       "    <tr>\n",
       "      <th>3</th>\n",
       "      <td>2002-07-31</td>\n",
       "      <td>82.53</td>\n",
       "      <td>82.80</td>\n",
       "      <td>81.90</td>\n",
       "      <td>81.95</td>\n",
       "      <td>29400</td>\n",
       "      <td>37.850416</td>\n",
       "      <td>37.974245</td>\n",
       "      <td>37.561481</td>\n",
       "      <td>37.584413</td>\n",
       "      <td>29400</td>\n",
       "      <td>0.0</td>\n",
       "      <td>1.0</td>\n",
       "      <td>44.679584</td>\n",
       "    </tr>\n",
       "    <tr>\n",
       "      <th>4</th>\n",
       "      <td>2002-08-01</td>\n",
       "      <td>83.00</td>\n",
       "      <td>83.02</td>\n",
       "      <td>82.54</td>\n",
       "      <td>82.54</td>\n",
       "      <td>25000</td>\n",
       "      <td>38.065970</td>\n",
       "      <td>38.075143</td>\n",
       "      <td>37.855002</td>\n",
       "      <td>37.855002</td>\n",
       "      <td>25000</td>\n",
       "      <td>0.0</td>\n",
       "      <td>1.0</td>\n",
       "      <td>44.934030</td>\n",
       "    </tr>\n",
       "  </tbody>\n",
       "</table>\n",
       "</div>"
      ],
      "text/plain": [
       "         date  tlt_close   high    low   open  volume  tlt_adjClose  \\\n",
       "0  2002-07-26      82.51  82.80  82.42  82.67  316300     37.841243   \n",
       "1  2002-07-29      81.42  82.16  81.32  82.06    8400     37.341341   \n",
       "2  2002-07-30      81.52  81.90  81.52  81.75    6100     37.387203   \n",
       "3  2002-07-31      82.53  82.80  81.90  81.95   29400     37.850416   \n",
       "4  2002-08-01      83.00  83.02  82.54  82.54   25000     38.065970   \n",
       "\n",
       "     adjHigh     adjLow    adjOpen  adjVolume  tlt_divCash  splitFactor  \\\n",
       "0  37.974245  37.799967  37.914623     316300          0.0          1.0   \n",
       "1  37.680724  37.295478  37.634861       8400          0.0          1.0   \n",
       "2  37.561481  37.387203  37.492687       6100          0.0          1.0   \n",
       "3  37.974245  37.561481  37.584413      29400          0.0          1.0   \n",
       "4  38.075143  37.855002  37.855002      25000          0.0          1.0   \n",
       "\n",
       "    tlt_diff  \n",
       "0  44.668757  \n",
       "1  44.078659  \n",
       "2  44.132797  \n",
       "3  44.679584  \n",
       "4  44.934030  "
      ]
     },
     "execution_count": 104,
     "metadata": {},
     "output_type": "execute_result"
    }
   ],
   "source": [
    "# Import bond data\n",
    "tlt_data = pd.read_csv(\"tlt.csv\")\n",
    "\n",
    "# Both data have the same column names, I'm going to rename some columns\n",
    "tlt_rename = tlt_data.rename(columns={'close': 'tlt_close', 'adjClose': 'tlt_adjClose', 'divCash': 'tlt_divCash'})\n",
    "\n",
    "# Add new column 'tlt_diff' as the difference between tlt_close and tlt_adjClose\n",
    "tlt_rename['tlt_diff'] = tlt_rename['tlt_close'] - tlt_rename['tlt_adjClose']\n",
    "\n",
    "tlt_rename.head(5)"
   ]
  },
  {
   "cell_type": "code",
   "execution_count": 99,
   "metadata": {},
   "outputs": [
    {
     "name": "stdout",
     "output_type": "stream",
     "text": [
      "Index(['date', 'tlt_close', 'high', 'low', 'open', 'volume', 'tlt_adjClose',\n",
      "       'adjHigh', 'adjLow', 'adjOpen', 'adjVolume', 'tlt_divCash',\n",
      "       'splitFactor', 'tlt_diff'],\n",
      "      dtype='object')\n",
      "(5778, 14)\n",
      "date             object\n",
      "tlt_close       float64\n",
      "high            float64\n",
      "low             float64\n",
      "open            float64\n",
      "volume            int64\n",
      "tlt_adjClose    float64\n",
      "adjHigh         float64\n",
      "adjLow          float64\n",
      "adjOpen         float64\n",
      "adjVolume         int64\n",
      "tlt_divCash     float64\n",
      "splitFactor     float64\n",
      "tlt_diff        float64\n",
      "dtype: object\n"
     ]
    }
   ],
   "source": [
    "print(tlt_rename.columns)\n",
    "print(tlt_rename.shape)\n",
    "print(tlt_rename.dtypes)"
   ]
  },
  {
   "cell_type": "code",
   "execution_count": 100,
   "metadata": {},
   "outputs": [
    {
     "data": {
      "text/plain": [
       "np.False_"
      ]
     },
     "execution_count": 100,
     "metadata": {},
     "output_type": "execute_result"
    }
   ],
   "source": [
    "# Checking missing values for tlt dataset\n",
    "tlt_rename.isnull().values.any()"
   ]
  },
  {
   "cell_type": "markdown",
   "metadata": {},
   "source": [
    "Great! We don't have any missing value in our tlt_raname dataset."
   ]
  },
  {
   "cell_type": "code",
   "execution_count": 117,
   "metadata": {},
   "outputs": [
    {
     "name": "stdout",
     "output_type": "stream",
     "text": [
      "SPY Table:\n",
      "\n",
      "         date  spy_close     high      low     open   volume  spy_adjClose  \\\n",
      "0  1993-01-29    43.9375  43.9687  43.7500  43.9687  1003200     24.367308   \n",
      "1  1993-02-01    44.2500  44.2500  43.9687  43.9687   480500     24.540618   \n",
      "2  1993-02-02    44.3437  44.3750  44.1250  44.2187   201300     24.592583   \n",
      "3  1993-02-03    44.8125  44.8437  44.3750  44.4062   529400     24.852575   \n",
      "4  1993-02-04    45.0000  45.0937  44.4687  44.9687   531500     24.956560   \n",
      "\n",
      "     adjHigh     adjLow    adjOpen  adjVolume  spy_divCash  splitFactor  \\\n",
      "0  24.384612  24.263323  24.384612    1003200          0.0          1.0   \n",
      "1  24.540618  24.384612  24.384612     480500          0.0          1.0   \n",
      "2  24.609942  24.471294  24.523259     201300          0.0          1.0   \n",
      "3  24.869878  24.609942  24.627245     529400          0.0          1.0   \n",
      "4  25.008526  24.661907  24.939202     531500          0.0          1.0   \n",
      "\n",
      "    spy_diff  \n",
      "0  19.570192  \n",
      "1  19.709382  \n",
      "2  19.751117  \n",
      "3  19.959925  \n",
      "4  20.043440  \n",
      "\n",
      "TLT Table:\n",
      "\n",
      "         date  tlt_close   high    low   open  volume  tlt_adjClose  \\\n",
      "0  2002-07-26      82.51  82.80  82.42  82.67  316300     37.841243   \n",
      "1  2002-07-29      81.42  82.16  81.32  82.06    8400     37.341341   \n",
      "2  2002-07-30      81.52  81.90  81.52  81.75    6100     37.387203   \n",
      "3  2002-07-31      82.53  82.80  81.90  81.95   29400     37.850416   \n",
      "4  2002-08-01      83.00  83.02  82.54  82.54   25000     38.065970   \n",
      "\n",
      "     adjHigh     adjLow    adjOpen  adjVolume  tlt_divCash  splitFactor  \\\n",
      "0  37.974245  37.799967  37.914623     316300          0.0          1.0   \n",
      "1  37.680724  37.295478  37.634861       8400          0.0          1.0   \n",
      "2  37.561481  37.387203  37.492687       6100          0.0          1.0   \n",
      "3  37.974245  37.561481  37.584413      29400          0.0          1.0   \n",
      "4  38.075143  37.855002  37.855002      25000          0.0          1.0   \n",
      "\n",
      "    tlt_diff  \n",
      "0  44.668757  \n",
      "1  44.078659  \n",
      "2  44.132797  \n",
      "3  44.679584  \n",
      "4  44.934030  \n"
     ]
    }
   ],
   "source": [
    "# Create SQLite database and tables\n",
    "conn = sqlite3.connect(\"example.db\")\n",
    "cursor = conn.cursor()\n",
    "\n",
    "# Create tables spy_data\n",
    "cursor.execute(\"\"\"\n",
    "CREATE TABLE IF NOT EXISTS spy (\n",
    "   date TEXT NOT NULL PRIMARY KEY,\n",
    "   spy_adjClose FLOAT NOT NULL             \n",
    ");\n",
    "\"\"\")\n",
    "\n",
    "# Create tables tlt_data\n",
    "cursor.execute(\"\"\"\n",
    "CREATE TABLE IF NOT EXISTS tlt (\n",
    "   date TEXT NOT NULL PRIMARY KEY,\n",
    "   tlt_adjClose FLOAT NOT NULL             \n",
    ");\n",
    "\"\"\")\n",
    "\n",
    "# Insert data into tables\n",
    "spy_rename.to_sql(\"spy\", conn, if_exists=\"replace\", index=False)\n",
    "tlt_rename.to_sql(\"tlt\", conn, if_exists=\"replace\", index=False)\n",
    "\n",
    "# Verify data was inserted\n",
    "print(\"SPY Table:\\n\")\n",
    "print(pd.read_sql_query(\"SELECT * FROM spy\", conn).head(5))\n",
    "\n",
    "print(\"\\nTLT Table:\\n\")\n",
    "print(pd.read_sql_query(\"SELECT * FROM tlt\", conn).head(5))\n",
    "\n"
   ]
  },
  {
   "cell_type": "code",
   "execution_count": 118,
   "metadata": {},
   "outputs": [],
   "source": [
    "# Setting up query function\n",
    "def query(query:str):\n",
    "    return pd.read_sql(query, conn)"
   ]
  },
  {
   "cell_type": "code",
   "execution_count": 119,
   "metadata": {},
   "outputs": [
    {
     "name": "stdout",
     "output_type": "stream",
     "text": [
      "         date  spy_close  spy_adjClose  spy_divCash   spy_diff  tlt_close  \\\n",
      "0  2002-07-26  85.599998     55.824445          0.0  29.775553      82.51   \n",
      "1  2002-07-29  89.769997     58.543930          0.0  31.226067      81.42   \n",
      "2  2002-07-30  90.940002     59.306954          0.0  31.633048      81.52   \n",
      "3  2002-07-31  91.160004     59.450430          0.0  31.709574      82.53   \n",
      "4  2002-08-01  88.779999     57.898298          0.0  30.881701      83.00   \n",
      "\n",
      "   tlt_adjClose  tlt_divCash   tlt_diff  \n",
      "0     37.841243          0.0  44.668757  \n",
      "1     37.341341          0.0  44.078659  \n",
      "2     37.387203          0.0  44.132797  \n",
      "3     37.850416          0.0  44.679584  \n",
      "4     38.065970          0.0  44.934030  \n"
     ]
    }
   ],
   "source": [
    "# Join two datasets. \n",
    "select_query = \"\"\"\n",
    "SELECT spy.date, spy_close, spy.spy_adjClose, spy.spy_divCash, spy_diff, tlt_close, tlt.tlt_adjClose, tlt.tlt_divCash, tlt_diff FROM spy\n",
    "INNER JOIN tlt\n",
    "    ON spy.date = tlt.date;\n",
    "\"\"\"\n",
    "final_data = query(select_query)\n",
    "\n",
    "print(final_data.head(5))"
   ]
  },
  {
   "cell_type": "code",
   "execution_count": 120,
   "metadata": {},
   "outputs": [
    {
     "name": "stdout",
     "output_type": "stream",
     "text": [
      "final_data Table:\n",
      "\n",
      "         date  spy_close  spy_adjClose  spy_divCash   spy_diff  tlt_close  \\\n",
      "0  2002-07-26  85.599998     55.824445          0.0  29.775553      82.51   \n",
      "1  2002-07-29  89.769997     58.543930          0.0  31.226067      81.42   \n",
      "2  2002-07-30  90.940002     59.306954          0.0  31.633048      81.52   \n",
      "3  2002-07-31  91.160004     59.450430          0.0  31.709574      82.53   \n",
      "4  2002-08-01  88.779999     57.898298          0.0  30.881701      83.00   \n",
      "\n",
      "   tlt_adjClose  tlt_divCash   tlt_diff  \n",
      "0     37.841243          0.0  44.668757  \n",
      "1     37.341341          0.0  44.078659  \n",
      "2     37.387203          0.0  44.132797  \n",
      "3     37.850416          0.0  44.679584  \n",
      "4     38.065970          0.0  44.934030  \n"
     ]
    }
   ],
   "source": [
    "# Create tables final_data\n",
    "cursor.execute(\"\"\"\n",
    "CREATE TABLE IF NOT EXISTS final_data (\n",
    "   date TEXT NOT NULL PRIMARY KEY,\n",
    "   spy_adjClose FLOAT NOT NULL,\n",
    "   spy_divCash FLOAT NOT NULL,          \n",
    "   tlt_adjClose FLOAT NOT NULL,\n",
    "   tlt_divCash FLOAT NOT NULL         \n",
    ");\n",
    "\"\"\")\n",
    "\n",
    "# Insert data into table\n",
    "final_data.to_sql(\"final_data\", conn, if_exists=\"replace\", index=False)\n",
    "\n",
    "# Verify data was inserted\n",
    "print(\"final_data Table:\\n\")\n",
    "print(pd.read_sql_query(\"SELECT * FROM final_data\", conn).head(5))"
   ]
  },
  {
   "cell_type": "code",
   "execution_count": 121,
   "metadata": {},
   "outputs": [],
   "source": [
    "final_data.to_csv('clean_data.csv', index=False)"
   ]
  }
 ],
 "metadata": {
  "kernelspec": {
   "display_name": "venv",
   "language": "python",
   "name": "python3"
  },
  "language_info": {
   "codemirror_mode": {
    "name": "ipython",
    "version": 3
   },
   "file_extension": ".py",
   "mimetype": "text/x-python",
   "name": "python",
   "nbconvert_exporter": "python",
   "pygments_lexer": "ipython3",
   "version": "3.13.4"
  },
  "orig_nbformat": 4
 },
 "nbformat": 4,
 "nbformat_minor": 2
}
